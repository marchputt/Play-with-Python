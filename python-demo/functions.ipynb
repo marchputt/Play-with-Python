{
 "cells": [
  {
   "cell_type": "markdown",
   "metadata": {},
   "source": [
    "# How to create functions in Python\n",
    "\n",
    "## The story \n",
    "We want to generate a message to describe person's `name`, `gender` and the their home country `nationality`. "
   ]
  },
  {
   "cell_type": "code",
   "execution_count": 4,
   "metadata": {},
   "outputs": [
    {
     "name": "stdout",
     "output_type": "stream",
     "text": [
      "Hello! This is John from the UK. John's gender is male.\n"
     ]
    }
   ],
   "source": [
    "name = 'John' \n",
    "gender = 'male'\n",
    "origin_country = 'the UK'\n",
    "\n",
    "greeting_msg = 'Hello! This is ' + name + ' from ' + origin_country + '. ' + name + '\\'s gender is ' + gender + '.'\n",
    "print(greeting_msg)"
   ]
  },
  {
   "cell_type": "markdown",
   "metadata": {},
   "source": [
    "We may be able to notice that these two line of code can be reused for other people as well. \n",
    "```python\n",
    "greeting_msg = 'Hello! This is ' + name + ' from ' + origin_country + '. ' + name + '\\'s gender is ' + gender + '.'\n",
    "print(greeting_msg)\n",
    "```\n",
    "The reason is that the three variables (`name`, `gender` and `nationality`) can be changed to suit other people's information and generate the same message with the same pattern. We can wrap this in a function. "
   ]
  },
  {
   "cell_type": "code",
   "execution_count": 5,
   "metadata": {},
   "outputs": [
    {
     "name": "stdout",
     "output_type": "stream",
     "text": [
      "Hello! This is Sarah from the US. Sarah's gender is female.\n"
     ]
    }
   ],
   "source": [
    "# Function to generate message\n",
    "def describe_in_sentence(name, gender, origin_country):\n",
    "    msg = 'Hello! This is ' + name + ' from ' + origin_country + '. ' + name + '\\'s gender is ' + gender + '.'\n",
    "    print(msg)\n",
    "    return msg\n",
    "\n",
    "# Run the function \n",
    "greeting_msg = describe_in_sentence('Sarah', 'female', 'the US')"
   ]
  },
  {
   "cell_type": "markdown",
   "metadata": {},
   "source": [
    "## Make the program sounds more natural.\n",
    "We can improve our existing function to sounds more natural. Like this. "
   ]
  },
  {
   "cell_type": "code",
   "execution_count": 7,
   "metadata": {},
   "outputs": [
    {
     "name": "stdout",
     "output_type": "stream",
     "text": [
      "Hello! This is Sarah. She is from the US.\n",
      "Hello! This is John. He is from the UK.\n"
     ]
    }
   ],
   "source": [
    "def describe_in_sentence(name, gender, origin_country):\n",
    "    if gender is 'male':\n",
    "        msg_pronoun = 'He'\n",
    "    elif gender is 'female':\n",
    "        msg_pronoun = 'She'\n",
    "    else:\n",
    "        msg_err = 'Cannot generate the natural description.'\n",
    "        print(msg_err)\n",
    "        return msg_err\n",
    "    \n",
    "    msg = 'Hello! This is ' + name + '. ' + msg_pronoun + ' is from ' + origin_country + '.'\n",
    "    print(msg)\n",
    "    return msg\n",
    "\n",
    "greeting_msg = describe_in_sentence('Sarah', 'female', 'the US')\n",
    "greeting_msg = describe_in_sentence('John', 'male', 'the UK')"
   ]
  }
 ],
 "metadata": {
  "kernelspec": {
   "display_name": "Python 3",
   "language": "python",
   "name": "python3"
  },
  "language_info": {
   "codemirror_mode": {
    "name": "ipython",
    "version": 3
   },
   "file_extension": ".py",
   "mimetype": "text/x-python",
   "name": "python",
   "nbconvert_exporter": "python",
   "pygments_lexer": "ipython3",
   "version": "3.6.5"
  }
 },
 "nbformat": 4,
 "nbformat_minor": 2
}
